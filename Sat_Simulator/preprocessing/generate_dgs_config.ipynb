{
 "cells": [
  {
   "cell_type": "code",
   "execution_count": 1,
   "metadata": {},
   "outputs": [],
   "source": [
    "import pickle\n",
    "import numpy as np"
   ]
  },
  {
   "cell_type": "code",
   "execution_count": 2,
   "metadata": {},
   "outputs": [],
   "source": [
    "gs_record=pickle.load(open('../data/ground_stations.pkl','rb'))"
   ]
  },
  {
   "cell_type": "code",
   "execution_count": 3,
   "metadata": {},
   "outputs": [
    {
     "data": {
      "text/plain": [
       "{'PartitionKey': 'Online',\n",
       " 'RowKey': '256',\n",
       " 'Timestamp': datetime.datetime(2020, 1, 7, 18, 52, 9, 218560, tzinfo=tzlocal()),\n",
       " 'altitude': 186,\n",
       " 'name': 'KO2F-Test-1',\n",
       " 'min_horizon': 10,\n",
       " 'lat': 38.555972,\n",
       " 'lng': -78.062523,\n",
       " 'qthlocator': 'FM08xn',\n",
       " 'location': '',\n",
       " 'num_antenna': 1,\n",
       " 'frequency_0': 135000000,\n",
       " 'frequency_max_0': 148000000,\n",
       " 'band_0': 'VHF',\n",
       " 'antenna_type_0': 'eggbeater',\n",
       " 'created': '2018-09-13T17:49:01Z',\n",
       " 'last_seen': '2020-01-07T01:47:01Z',\n",
       " 'status': 'Online',\n",
       " 'observations': 1737,\n",
       " 'description': '',\n",
       " 'client_version': '1.0',\n",
       " 'target_utilization': 0,\n",
       " 'etag': 'W/\"datetime\\'2020-01-07T18%3A52%3A09.2185607Z\\'\"'}"
      ]
     },
     "execution_count": 3,
     "metadata": {},
     "output_type": "execute_result"
    }
   ],
   "source": [
    "gs_record[1]"
   ]
  },
  {
   "cell_type": "code",
   "execution_count": 4,
   "metadata": {},
   "outputs": [],
   "source": [
    "selected_gs=np.random.choice(gs_record,200,replace=False)"
   ]
  },
  {
   "cell_type": "code",
   "execution_count": 21,
   "metadata": {},
   "outputs": [],
   "source": [
    "gs_config = {\n",
    "    i:{\n",
    "        'position': [x['lat'], x['lng'],0],\n",
    "        'bandwidth': 75e5\n",
    "    }\n",
    "    for i,x in enumerate(selected_gs)\n",
    "}\n"
   ]
  },
  {
   "cell_type": "code",
   "execution_count": 22,
   "metadata": {},
   "outputs": [],
   "source": [
    "import json\n",
    "json.dump(gs_config,open('../data/dgs_config/1G.json','w+'))"
   ]
  },
  {
   "cell_type": "code",
   "execution_count": null,
   "metadata": {},
   "outputs": [],
   "source": []
  }
 ],
 "metadata": {
  "kernelspec": {
   "display_name": "satSim",
   "language": "python",
   "name": "python3"
  },
  "language_info": {
   "codemirror_mode": {
    "name": "ipython",
    "version": 3
   },
   "file_extension": ".py",
   "mimetype": "text/x-python",
   "name": "python",
   "nbconvert_exporter": "python",
   "pygments_lexer": "ipython3",
   "version": "3.8.13"
  },
  "orig_nbformat": 4
 },
 "nbformat": 4,
 "nbformat_minor": 2
}

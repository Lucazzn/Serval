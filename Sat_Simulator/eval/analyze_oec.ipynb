{
 "cells": [
  {
   "cell_type": "code",
   "execution_count": 1,
   "metadata": {},
   "outputs": [],
   "source": [
    "import pickle\n",
    "import matplotlib.pyplot as plt\n",
    "import matplotlib\n",
    "import numpy as np\n",
    "import seaborn as sns\n",
    "import sys\n",
    "import os\n",
    "sys.path.append('/home/yutao4/Sat_Simulator')\n",
    "os.chdir('/home/yutao4/Sat_Simulator')"
   ]
  },
  {
   "cell_type": "code",
   "execution_count": 2,
   "metadata": {},
   "outputs": [],
   "source": [
    "sns.set_theme()\n",
    "matplotlib.rcParams['pdf.fonttype'] = 42\n",
    "matplotlib.rcParams['ps.fonttype'] = 42\n",
    "matplotlib.rcParams['font.size'] = 18"
   ]
  },
  {
   "cell_type": "code",
   "execution_count": 3,
   "metadata": {},
   "outputs": [],
   "source": [
    "high_priority_ground_truth = pickle.load(open(\"data/high_priority_list.pkl\", \"rb\"))"
   ]
  },
  {
   "cell_type": "code",
   "execution_count": 4,
   "metadata": {},
   "outputs": [],
   "source": [
    "from loggingCode.overallLog import get_str"
   ]
  },
  {
   "cell_type": "code",
   "execution_count": 5,
   "metadata": {},
   "outputs": [],
   "source": [
    "oec_ids=[x['imageName'] for x in get_str(\"log/forest/dgs_001/oec__9749496.log\",\"Data Center Received data\")]"
   ]
  },
  {
   "cell_type": "code",
   "execution_count": 6,
   "metadata": {},
   "outputs": [],
   "source": [
    "default_ids=[x['imageName'] for x in get_str(\"log/forest/dgs_001/default_filter__9749496.log\",\"Data Center Received data\")]"
   ]
  },
  {
   "cell_type": "code",
   "execution_count": 7,
   "metadata": {},
   "outputs": [],
   "source": [
    "oec_high_total=len([x for x in oec_ids if x in high_priority_ground_truth])\n",
    "default_high_total=len([x for x in default_ids if x in high_priority_ground_truth])\n",
    "oec_vessel_total=len([x for x in oec_ids if x in high_priority_ground_truth and 'vessel' in x])\n",
    "default_vessel_total=len([x for x in default_ids if x in high_priority_ground_truth and 'vessel' in x])\n",
    "oec_fire_total=oec_high_total-oec_vessel_total\n",
    "default_fire_total=default_high_total-default_vessel_total"
   ]
  },
  {
   "cell_type": "code",
   "execution_count": 8,
   "metadata": {},
   "outputs": [
    {
     "data": {
      "text/plain": [
       "(555, 538, 17, 654, 538, 116)"
      ]
     },
     "execution_count": 8,
     "metadata": {},
     "output_type": "execute_result"
    }
   ],
   "source": [
    "oec_high_total,oec_vessel_total,oec_fire_total,default_high_total,default_vessel_total,default_fire_total"
   ]
  },
  {
   "cell_type": "code",
   "execution_count": 9,
   "metadata": {},
   "outputs": [
    {
     "data": {
      "image/png": "[encoded data removed]",
      "text/plain": [
       "<Figure size 500x400 with 1 Axes>"
      ]
     },
     "metadata": {},
     "output_type": "display_data"
    }
   ],
   "source": [
    "# Make a bar plot\n",
    "fig, ax = plt.subplots(figsize=(5, 4))\n",
    "width = 0.25\n",
    "x = np.arange(2)\n",
    "rects1 = ax.bar(x - width, [oec_high_total, default_high_total], width, label='Total')\n",
    "rects2 = ax.bar(x, [oec_vessel_total, default_vessel_total], width, label='Vessel')\n",
    "rects3 = ax.bar(x + width, [oec_fire_total, default_fire_total], width, label='Fire')\n",
    "ax.set_ylabel('Number of images')\n",
    "ax.set_xticks(x)\n",
    "ax.set_xticklabels(['OEC', 'Serval'])\n",
    "ax.legend()\n",
    "fig.tight_layout()\n",
    "plt.savefig('results/plots/oec.pdf')\n",
    "plt.show()"
   ]
  },
  {
   "cell_type": "code",
   "execution_count": 14,
   "metadata": {},
   "outputs": [],
   "source": [
    "gl=[x for x in high_priority_ground_truth if int(x[6:8])>=10]"
   ]
  },
  {
   "cell_type": "code",
   "execution_count": 16,
   "metadata": {},
   "outputs": [
    {
     "data": {
      "text/plain": [
       "(538, 116)"
      ]
     },
     "execution_count": 16,
     "metadata": {},
     "output_type": "execute_result"
    }
   ],
   "source": [
    "len([x for x in gl if 'vessel' in x]), len([x for x in gl if 'vessel' not in x])"
   ]
  },
  {
   "cell_type": "code",
   "execution_count": null,
   "metadata": {},
   "outputs": [],
   "source": []
  }
 ],
 "metadata": {
  "kernelspec": {
   "display_name": "satSim",
   "language": "python",
   "name": "python3"
  },
  "language_info": {
   "codemirror_mode": {
    "name": "ipython",
    "version": 3
   },
   "file_extension": ".py",
   "mimetype": "text/x-python",
   "name": "python",
   "nbconvert_exporter": "python",
   "pygments_lexer": "ipython3",
   "version": "3.8.13"
  }
 },
 "nbformat": 4,
 "nbformat_minor": 2
}

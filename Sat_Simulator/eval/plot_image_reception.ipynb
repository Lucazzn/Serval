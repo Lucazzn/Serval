{
 "cells": [
  {
   "cell_type": "code",
   "execution_count": 1,
   "metadata": {},
   "outputs": [],
   "source": [
    "import os\n",
    "import sys\n",
    "import numpy as np\n",
    "import matplotlib.pyplot as plt\n",
    "from datetime import datetime, timezone\n",
    "import pickle\n",
    "sys.path.append('/home/yutao4/Sat_Simulator/')\n",
    "os.chdir('/home/yutao4/Sat_Simulator/')"
   ]
  },
  {
   "cell_type": "code",
   "execution_count": 2,
   "metadata": {},
   "outputs": [],
   "source": [
    "one_sat_data= pickle.load(open('data/sat_103b.pkl', 'rb'))"
   ]
  },
  {
   "cell_type": "code",
   "execution_count": 3,
   "metadata": {},
   "outputs": [],
   "source": [
    "high_priority_image_list=pickle.load(open('data/high_priority_list.pkl', 'rb'))"
   ]
  },
  {
   "cell_type": "code",
   "execution_count": 4,
   "metadata": {},
   "outputs": [],
   "source": [
    "one_sat_data.sort(key=lambda x: x.time)"
   ]
  },
  {
   "cell_type": "code",
   "execution_count": 5,
   "metadata": {},
   "outputs": [],
   "source": [
    "x = [(img.time.to_datetime()-datetime(2021,7,1,tzinfo=timezone.utc)).total_seconds()/86400 for img in one_sat_data]\n",
    "y = [1 if img.filter_result['california'][0] else 0 for img in one_sat_data]"
   ]
  },
  {
   "cell_type": "code",
   "execution_count": 11,
   "metadata": {},
   "outputs": [],
   "source": [
    "import matplotlib.pyplot as plt\n",
    "import numpy as np\n",
    "\n",
    "def draw_band(x, numbers, line_colors, rect_height=0.4, rect_width=1.0):\n",
    "    # Calculate the number of rows needed\n",
    "    num_rows = int(np.ceil((max(x) - min(x)) / rect_width))\n",
    "\n",
    "    # Create a new plot with appropriate height for number of rows\n",
    "    fig, axs = plt.subplots(num_rows, 1, figsize=(10, num_rows * rect_height))\n",
    "\n",
    "    # Loop through the rows and draw rectangles with lines as necessary\n",
    "    for row_idx, ax in enumerate(axs):\n",
    "        # Calculate the range of x values for this row\n",
    "        row_x_min = min(x) + row_idx * rect_width\n",
    "        row_x_max = min(row_x_min + rect_width, max(x))\n",
    "        row_x = [xi for xi in x if row_x_min <= xi < row_x_max]\n",
    "\n",
    "        # Loop through the x values in this row and draw lines as necessary\n",
    "        for xi, num in zip(row_x, numbers):\n",
    "            if num in line_colors:\n",
    "                color = line_colors[num]\n",
    "                ax.axvline(x=xi, color=color, linewidth=.1 if color == \"red\" else 1)\n",
    "\n",
    "        # Set the axis limits and remove ticks and labels\n",
    "        ax.set_xlim(row_x_min, row_x_max)\n",
    "        ax.set_ylim(0, 1)\n",
    "        ax.set_xticks([])\n",
    "        ax.set_yticks([])\n",
    "\n",
    "    # Add a legend to the last subplot\n",
    "    legend_labels = [f\"{num}: {color}\" for num, color in line_colors.items()]\n",
    "    fig.legend(legend_labels, fontsize=10)\n",
    "\n",
    "    # Show the plot\n",
    "    plt.show()\n"
   ]
  },
  {
   "cell_type": "code",
   "execution_count": 12,
   "metadata": {},
   "outputs": [
    {
     "data": {
      "image/png": "[encoded data removed]",
      "text/plain": [
       "<Figure size 1000x120 with 3 Axes>"
      ]
     },
     "metadata": {},
     "output_type": "display_data"
    }
   ],
   "source": [
    "# Select xs and ys where 9.6<x<10.2\n",
    "x0 = [xi for xi in x if 9.6 <= xi < 10.2]\n",
    "y0 = [yi for xi, yi in zip(x, y) if 9.6 <= xi < 10.2]\n",
    "\n",
    "draw_band(x0, y0, {0: 'red', 1: 'green'}, rect_width=0.2)"
   ]
  },
  {
   "cell_type": "code",
   "execution_count": null,
   "metadata": {},
   "outputs": [],
   "source": []
  }
 ],
 "metadata": {
  "kernelspec": {
   "display_name": "satSim",
   "language": "python",
   "name": "python3"
  },
  "language_info": {
   "codemirror_mode": {
    "name": "ipython",
    "version": 3
   },
   "file_extension": ".py",
   "mimetype": "text/x-python",
   "name": "python",
   "nbconvert_exporter": "python",
   "pygments_lexer": "ipython3",
   "version": "3.8.13"
  },
  "orig_nbformat": 4
 },
 "nbformat": 4,
 "nbformat_minor": 2
}
